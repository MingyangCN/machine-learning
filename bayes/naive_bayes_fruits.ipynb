{
 "cells": [
  {
   "cell_type": "markdown",
   "source": [
    "## bayes_classfier\n",
    "每个元组都被表示为n维 属性 向量x = ( x 1 , x 1 , . . . , x n )\n",
    "一共有k个类别: c1, c2, c3, c4\n",
    "\n",
    "P(c|X) = (P(X|c)*P(c)) / P(X)\n",
    "\n",
    "reference: https://blog.csdn.net/qq_25948717/article/details/81744277"
   ],
   "metadata": {
    "collapsed": false
   }
  },
  {
   "cell_type": "code",
   "execution_count": 1,
   "outputs": [],
   "source": [
    "import random\n",
    "import operator"
   ],
   "metadata": {
    "collapsed": false,
    "pycharm": {
     "name": "#%%\n"
    }
   }
  },
  {
   "cell_type": "code",
   "execution_count": 2,
   "outputs": [],
   "source": [
    "datasets = {\n",
    "    'banana': {'long': 400, 'not_long': 100, 'sweet': 350, 'not_sweet': 150, 'yellow': 450, 'not_yellow': 50},\n",
    "    'orange': {'long': 0, 'not_long': 300, 'sweet': 150, 'not_sweet': 150, 'yellow': 300, 'not_yellow': 0},\n",
    "    'other_fruit': {'long': 100, 'not_long': 100, 'sweet': 150, 'not_sweet': 50, 'yellow': 50, 'not_yellow': 150}\n",
    "}"
   ],
   "metadata": {
    "collapsed": false,
    "pycharm": {
     "name": "#%%\n"
    }
   }
  },
  {
   "cell_type": "markdown",
   "source": [
    "### 计算各种水果的总数"
   ],
   "metadata": {
    "collapsed": false
   }
  },
  {
   "cell_type": "code",
   "execution_count": 3,
   "metadata": {
    "collapsed": true
   },
   "outputs": [],
   "source": [
    "def count_total_fruit(data):\n",
    "    \"\"\"\n",
    "    return {'banana': 500, 'orange': 300, 'other_fruit': 200}, 1000\n",
    "    \"\"\"\n",
    "    count = {}\n",
    "    total = 0\n",
    "    for fruit in data:\n",
    "        # fruit : banana orange other_fruit, 利用数据的特殊性，求每个类别的样本数\n",
    "        count[fruit] = data[fruit]['sweet'] + data[fruit]['not_sweet']\n",
    "        total += count[fruit]\n",
    "\n",
    "    return count, total"
   ]
  },
  {
   "cell_type": "code",
   "execution_count": 4,
   "outputs": [
    {
     "data": {
      "text/plain": "(500, {'banana': 500, 'orange': 300, 'other_fruit': 200}, 1000)"
     },
     "execution_count": 4,
     "metadata": {},
     "output_type": "execute_result"
    }
   ],
   "source": [
    "count, total = count_total_fruit(datasets)\n",
    "count[\"banana\"], count, total"
   ],
   "metadata": {
    "collapsed": false,
    "pycharm": {
     "name": "#%%\n"
    }
   }
  },
  {
   "cell_type": "code",
   "execution_count": 5,
   "outputs": [
    {
     "name": "stdout",
     "output_type": "stream",
     "text": [
      "banana 500\n",
      "orange 300\n",
      "other_fruit 200\n"
     ]
    },
    {
     "data": {
      "text/plain": "['banana', 'orange', 'other_fruit']"
     },
     "execution_count": 5,
     "metadata": {},
     "output_type": "execute_result"
    }
   ],
   "source": [
    "# 获取字典类型的key\n",
    "for k, v in count.items():\n",
    "    print(k, v)\n",
    "\n",
    "labels = []\n",
    "for label in count:\n",
    "    labels.append(label)\n",
    "labels"
   ],
   "metadata": {
    "collapsed": false,
    "pycharm": {
     "name": "#%%\n"
    }
   }
  },
  {
   "cell_type": "markdown",
   "source": [
    "### 计算先验概率 P(C)"
   ],
   "metadata": {
    "collapsed": false
   }
  },
  {
   "cell_type": "code",
   "execution_count": 6,
   "outputs": [],
   "source": [
    "def cal_priori_probs(data):\n",
    "    categories, total = count_total_fruit(data)\n",
    "    prior_probs = {}\n",
    "\n",
    "    for label in categories:\n",
    "        prior_prob = categories[label] / total\n",
    "        prior_probs[label] = prior_prob\n",
    "    return prior_probs"
   ],
   "metadata": {
    "collapsed": false,
    "pycharm": {
     "name": "#%%\n"
    }
   }
  },
  {
   "cell_type": "code",
   "execution_count": 7,
   "outputs": [
    {
     "data": {
      "text/plain": "({'banana': 0.5, 'orange': 0.3, 'other_fruit': 0.2},\n dict_keys(['banana', 'orange', 'other_fruit']),\n 'orange')"
     },
     "execution_count": 7,
     "metadata": {},
     "output_type": "execute_result"
    }
   ],
   "source": [
    "priori_probs = cal_priori_probs(datasets)\n",
    "priori_probs, priori_probs.keys(), list(priori_probs.keys())[1]"
   ],
   "metadata": {
    "collapsed": false,
    "pycharm": {
     "name": "#%%\n"
    }
   }
  },
  {
   "cell_type": "markdown",
   "source": [
    "### 似然 P(x_i|c_k) == 各特征值在已知水果下的概率"
   ],
   "metadata": {
    "collapsed": false
   }
  },
  {
   "cell_type": "code",
   "execution_count": 8,
   "outputs": [],
   "source": [
    "def likelihood_prob(data):\n",
    "\n",
    "    count, _ = count_total_fruit(data)\n",
    "    likelihood = {}\n",
    "\n",
    "    for fruit in data:\n",
    "        \"\"\"创建一个临时字典，存储各个特征值的概率\"\"\"\n",
    "        attr_prob = {}\n",
    "        for attr in data[fruit]:\n",
    "            # 计算各个特征值在已知水果下的概率\n",
    "            # attr : long, not long, sweet, not sweet, yellow, not yellow\n",
    "            attr_prob[attr] = data[fruit][attr] / count[fruit]\n",
    "        # 存储每个水果下各个特征的信息\n",
    "        likelihood[fruit] = attr_prob\n",
    "\n",
    "    return likelihood\n"
   ],
   "metadata": {
    "collapsed": false,
    "pycharm": {
     "name": "#%%\n"
    }
   }
  },
  {
   "cell_type": "code",
   "execution_count": 9,
   "outputs": [
    {
     "data": {
      "text/plain": "{'banana': {'long': 0.8,\n  'not_long': 0.2,\n  'sweet': 0.7,\n  'not_sweet': 0.3,\n  'yellow': 0.9,\n  'not_yellow': 0.1},\n 'orange': {'long': 0.0,\n  'not_long': 1.0,\n  'sweet': 0.5,\n  'not_sweet': 0.5,\n  'yellow': 1.0,\n  'not_yellow': 0.0},\n 'other_fruit': {'long': 0.5,\n  'not_long': 0.5,\n  'sweet': 0.75,\n  'not_sweet': 0.25,\n  'yellow': 0.25,\n  'not_yellow': 0.75}}"
     },
     "execution_count": 9,
     "metadata": {},
     "output_type": "execute_result"
    }
   ],
   "source": [
    "LikeHold = likelihood_prob(datasets)\n",
    "LikeHold\n",
    "# LikeHold['banana']"
   ],
   "metadata": {
    "collapsed": false,
    "pycharm": {
     "name": "#%%\n"
    }
   }
  },
  {
   "cell_type": "markdown",
   "source": [
    "### (分母) 计算特征的概率对分类结果的影响 P(X)"
   ],
   "metadata": {
    "collapsed": false
   }
  },
  {
   "cell_type": "code",
   "execution_count": 10,
   "outputs": [],
   "source": [
    "def evidence_prob(data):\n",
    "    \"\"\"\n",
    "        return {'long':50%...}\n",
    "    \"\"\"\n",
    "    attrs = list(data['banana'].keys())  # 获得所有水果特征\n",
    "    count, total = count_total_fruit(data)\n",
    "    evidence_prob = {}\n",
    "\n",
    "    # 计算各种特征的概率\n",
    "    for attr in attrs:\n",
    "        attr_total = 0\n",
    "        for fruit in data:\n",
    "            # 计算所有水果中，相同属性下水果的总量\n",
    "            attr_total += data[fruit][attr]\n",
    "        evidence_prob[attr] = attr_total / total\n",
    "    return evidence_prob"
   ],
   "metadata": {
    "collapsed": false,
    "pycharm": {
     "name": "#%%\n"
    }
   }
  },
  {
   "cell_type": "code",
   "execution_count": 11,
   "outputs": [
    {
     "data": {
      "text/plain": "{'long': 0.5,\n 'not_long': 0.5,\n 'sweet': 0.65,\n 'not_sweet': 0.35,\n 'yellow': 0.8,\n 'not_yellow': 0.2}"
     },
     "execution_count": 11,
     "metadata": {},
     "output_type": "execute_result"
    }
   ],
   "source": [
    "Evidence_prob = evidence_prob(datasets)\n",
    "Evidence_prob"
   ],
   "metadata": {
    "collapsed": false,
    "pycharm": {
     "name": "#%%\n"
    }
   }
  },
  {
   "cell_type": "markdown",
   "source": [
    "## 朴素贝叶斯分类器\n",
    "数据转换"
   ],
   "metadata": {
    "collapsed": false
   }
  },
  {
   "cell_type": "code",
   "execution_count": 12,
   "outputs": [],
   "source": [
    "class navie_bayes_classifer:\n",
    "    \"\"\" 初始化朴素贝叶斯， 实例化时调用  P(c|X) = (P(X|c) * P(c)) / P(X)   -> target : 极大后验概率(MAP)\n",
    "    \"\"\"\n",
    "    def __init__(self, data=datasets):\n",
    "        self._data = datasets\n",
    "        self._labels = [k for k in self._data.keys()]\n",
    "        self._priori_prob = cal_priori_probs(self._data)  # 先验概率  P(c)\n",
    "        self._likelihood_prob = likelihood_prob(self._data)  # 联合概率: 各特征值在已知水果下的概率  P(X|c)\n",
    "        self._evidence_prob = evidence_prob(self._data)  # P(X)\n",
    "\n",
    "    def get_label(self, length, sweetness, color):\n",
    "        \"\"\"获得某一组特征值的类别\"\"\"\n",
    "        # self._attrs = [length, sweetness, color]\n",
    "        self._attrs = list(self._data[self._labels[0]].keys())   # problem\n",
    "        result = {}\n",
    "\n",
    "        for label in self._labels:\n",
    "            # 取某种水果的占比, 先验概率\n",
    "            prob = self._priori_prob[label]\n",
    "\n",
    "            for attr in self._attrs:\n",
    "                # 单个水果的某个特征概率除以总的某个特征概率 再乘以某水果占比率\n",
    "                prob *= self._likelihood_prob[label][attr] / self._evidence_prob[attr]\n",
    "            result[label] = prob\n",
    "\n",
    "        return result"
   ],
   "metadata": {
    "collapsed": false,
    "pycharm": {
     "name": "#%%\n"
    }
   }
  },
  {
   "cell_type": "markdown",
   "source": [
    "## 产生测试数据\n",
    "测试贝叶斯分类器的预测能力"
   ],
   "metadata": {
    "collapsed": false
   }
  },
  {
   "cell_type": "code",
   "execution_count": 13,
   "outputs": [
    {
     "data": {
      "text/plain": "[['long', 'not_sweet', 'not_yellow'],\n ['not_long', 'sweet', 'not_yellow'],\n ['long', 'not_sweet', 'yellow'],\n ['not_long', 'sweet', 'not_yellow'],\n ['long', 'sweet', 'not_yellow'],\n ['long', 'sweet', 'yellow'],\n ['long', 'sweet', 'yellow'],\n ['not_long', 'not_sweet', 'yellow'],\n ['long', 'not_sweet', 'yellow'],\n ['long', 'not_sweet', 'not_yellow'],\n ['long', 'sweet', 'yellow'],\n ['long', 'not_sweet', 'not_yellow'],\n ['long', 'not_sweet', 'not_yellow'],\n ['long', 'not_sweet', 'yellow'],\n ['not_long', 'sweet', 'not_yellow'],\n ['long', 'sweet', 'not_yellow'],\n ['not_long', 'not_sweet', 'not_yellow'],\n ['long', 'not_sweet', 'not_yellow'],\n ['not_long', 'not_sweet', 'not_yellow'],\n ['not_long', 'sweet', 'not_yellow']]"
     },
     "execution_count": 13,
     "metadata": {},
     "output_type": "execute_result"
    }
   ],
   "source": [
    "def random_attr(pair):\n",
    "    #生成0-1之间的随机数\n",
    "    return pair[random.randint(0, 1)]\n",
    "\n",
    "def generate_attrs(test_data_length):\n",
    "    # 特征值的取值集合\n",
    "    sets = [('long', 'not_long'), ('sweet', 'not_sweet'), ('yellow', 'not_yellow')]\n",
    "    test_data = []\n",
    "    for i in range(test_data_length):\n",
    "        # 使用map函数来生成一组特征值\n",
    "        test_data.append(list(map(random_attr, sets)))\n",
    "    return test_data\n",
    "\n",
    "# random_attr(('long', 'not_long'))\n",
    "test_data_length = 20\n",
    "generate_attrs(test_data_length)"
   ],
   "metadata": {
    "collapsed": false,
    "pycharm": {
     "name": "#%%\n"
    }
   }
  },
  {
   "cell_type": "code",
   "execution_count": 14,
   "outputs": [
    {
     "data": {
      "text/plain": "(('long', 'not_long'), 'long', ['long', 'sweet', 'not_yellow'])"
     },
     "execution_count": 14,
     "metadata": {},
     "output_type": "execute_result"
    }
   ],
   "source": [
    "sets = [('long', 'not_long'), ('sweet', 'not_sweet'), ('yellow', 'not_yellow')]\n",
    "sets[0], sets[0][0], list(map(random_attr, sets))"
   ],
   "metadata": {
    "collapsed": false,
    "pycharm": {
     "name": "#%%\n"
    }
   }
  },
  {
   "cell_type": "markdown",
   "source": [
    "## 使用朴素贝叶斯分类器进行测试"
   ],
   "metadata": {
    "collapsed": false
   }
  },
  {
   "cell_type": "code",
   "execution_count": 15,
   "outputs": [
    {
     "name": "stdout",
     "output_type": "stream",
     "text": [
      "特征值： ['long', 'not_sweet', 'yellow']\n",
      "预测结果：{'banana': 0.1661538461538462, 'orange': 0.0, 'other_fruit': 0.19316620879120877}\n",
      "类别：other_fruit\n",
      "\n",
      "特征值： ['not_long', 'not_sweet', 'not_yellow']\n",
      "预测结果：{'banana': 0.1661538461538462, 'orange': 0.0, 'other_fruit': 0.19316620879120877}\n",
      "类别：other_fruit\n",
      "\n",
      "特征值： ['long', 'sweet', 'not_yellow']\n",
      "预测结果：{'banana': 0.1661538461538462, 'orange': 0.0, 'other_fruit': 0.19316620879120877}\n",
      "类别：other_fruit\n",
      "\n",
      "特征值： ['not_long', 'not_sweet', 'not_yellow']\n",
      "预测结果：{'banana': 0.1661538461538462, 'orange': 0.0, 'other_fruit': 0.19316620879120877}\n",
      "类别：other_fruit\n",
      "\n",
      "特征值： ['not_long', 'sweet', 'yellow']\n",
      "预测结果：{'banana': 0.1661538461538462, 'orange': 0.0, 'other_fruit': 0.19316620879120877}\n",
      "类别：other_fruit\n",
      "\n",
      "特征值： ['long', 'sweet', 'not_yellow']\n",
      "预测结果：{'banana': 0.1661538461538462, 'orange': 0.0, 'other_fruit': 0.19316620879120877}\n",
      "类别：other_fruit\n",
      "\n",
      "特征值： ['long', 'sweet', 'not_yellow']\n",
      "预测结果：{'banana': 0.1661538461538462, 'orange': 0.0, 'other_fruit': 0.19316620879120877}\n",
      "类别：other_fruit\n",
      "\n",
      "特征值： ['not_long', 'sweet', 'not_yellow']\n",
      "预测结果：{'banana': 0.1661538461538462, 'orange': 0.0, 'other_fruit': 0.19316620879120877}\n",
      "类别：other_fruit\n",
      "\n",
      "特征值： ['long', 'sweet', 'yellow']\n",
      "预测结果：{'banana': 0.1661538461538462, 'orange': 0.0, 'other_fruit': 0.19316620879120877}\n",
      "类别：other_fruit\n",
      "\n",
      "特征值： ['not_long', 'not_sweet', 'not_yellow']\n",
      "预测结果：{'banana': 0.1661538461538462, 'orange': 0.0, 'other_fruit': 0.19316620879120877}\n",
      "类别：other_fruit\n",
      "\n",
      "特征值： ['not_long', 'sweet', 'yellow']\n",
      "预测结果：{'banana': 0.1661538461538462, 'orange': 0.0, 'other_fruit': 0.19316620879120877}\n",
      "类别：other_fruit\n",
      "\n",
      "特征值： ['long', 'sweet', 'yellow']\n",
      "预测结果：{'banana': 0.1661538461538462, 'orange': 0.0, 'other_fruit': 0.19316620879120877}\n",
      "类别：other_fruit\n",
      "\n",
      "特征值： ['not_long', 'not_sweet', 'yellow']\n",
      "预测结果：{'banana': 0.1661538461538462, 'orange': 0.0, 'other_fruit': 0.19316620879120877}\n",
      "类别：other_fruit\n",
      "\n",
      "特征值： ['long', 'sweet', 'not_yellow']\n",
      "预测结果：{'banana': 0.1661538461538462, 'orange': 0.0, 'other_fruit': 0.19316620879120877}\n",
      "类别：other_fruit\n",
      "\n",
      "特征值： ['not_long', 'sweet', 'yellow']\n",
      "预测结果：{'banana': 0.1661538461538462, 'orange': 0.0, 'other_fruit': 0.19316620879120877}\n",
      "类别：other_fruit\n",
      "\n",
      "特征值： ['long', 'not_sweet', 'yellow']\n",
      "预测结果：{'banana': 0.1661538461538462, 'orange': 0.0, 'other_fruit': 0.19316620879120877}\n",
      "类别：other_fruit\n",
      "\n",
      "特征值： ['not_long', 'not_sweet', 'not_yellow']\n",
      "预测结果：{'banana': 0.1661538461538462, 'orange': 0.0, 'other_fruit': 0.19316620879120877}\n",
      "类别：other_fruit\n",
      "\n",
      "特征值： ['long', 'not_sweet', 'not_yellow']\n",
      "预测结果：{'banana': 0.1661538461538462, 'orange': 0.0, 'other_fruit': 0.19316620879120877}\n",
      "类别：other_fruit\n",
      "\n",
      "特征值： ['long', 'sweet', 'yellow']\n",
      "预测结果：{'banana': 0.1661538461538462, 'orange': 0.0, 'other_fruit': 0.19316620879120877}\n",
      "类别：other_fruit\n",
      "\n",
      "特征值： ['long', 'sweet', 'yellow']\n",
      "预测结果：{'banana': 0.1661538461538462, 'orange': 0.0, 'other_fruit': 0.19316620879120877}\n",
      "类别：other_fruit\n",
      "\n"
     ]
    }
   ],
   "source": [
    "def main(test_data_length):\n",
    "    length = test_data_length\n",
    "    test_data = generate_attrs(length)\n",
    "    classifer = navie_bayes_classifer()\n",
    "\n",
    "    for data in test_data:\n",
    "        # 预测属于哪种水果的概率\n",
    "        result = classifer.get_label(*data)\n",
    "        # 对后验概率排序，输出概率最大的标签\n",
    "        label = str(sorted(result.items(), key = operator.itemgetter(1), reverse=True)[0][0])\n",
    "\n",
    "        print(f\"特征值： {data}\")\n",
    "        print(f\"预测结果：{result}\")\n",
    "        print(f\"类别：{label}\\n\")\n",
    "\n",
    "if __name__ == '__main__':\n",
    "    test_data_length = 20\n",
    "    main(test_data_length)\n"
   ],
   "metadata": {
    "collapsed": false,
    "pycharm": {
     "name": "#%%\n"
    }
   }
  }
 ],
 "metadata": {
  "kernelspec": {
   "display_name": "Python 3",
   "language": "python",
   "name": "python3"
  },
  "language_info": {
   "codemirror_mode": {
    "name": "ipython",
    "version": 2
   },
   "file_extension": ".py",
   "mimetype": "text/x-python",
   "name": "python",
   "nbconvert_exporter": "python",
   "pygments_lexer": "ipython2",
   "version": "2.7.6"
  }
 },
 "nbformat": 4,
 "nbformat_minor": 0
}